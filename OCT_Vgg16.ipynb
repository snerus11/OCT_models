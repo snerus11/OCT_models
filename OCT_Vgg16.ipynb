{
 "cells": [
  {
   "cell_type": "code",
   "execution_count": 1,
   "id": "ecd107f7",
   "metadata": {},
   "outputs": [
    {
     "name": "stdout",
     "output_type": "stream",
     "text": [
      "WARNING:tensorflow:From C:\\Users\\lol51\\anaconda3\\Lib\\site-packages\\keras\\src\\losses.py:2976: The name tf.losses.sparse_softmax_cross_entropy is deprecated. Please use tf.compat.v1.losses.sparse_softmax_cross_entropy instead.\n",
      "\n"
     ]
    }
   ],
   "source": [
    "import tensorflow as tf\n",
    "from tensorflow.keras.preprocessing.image import ImageDataGenerator\n",
    "from tensorflow.keras.models import Sequential\n",
    "from tensorflow.keras.layers import Flatten, Dense\n",
    "from tensorflow.keras.optimizers import Adam\n",
    "from tensorflow.keras.applications import VGG16\n",
    "import pandas as pd"
   ]
  },
  {
   "cell_type": "code",
   "execution_count": 2,
   "id": "70c72f51",
   "metadata": {},
   "outputs": [],
   "source": [
    "train_dir = r'C:\\Users\\lol51\\Downloads\\OCT_data\\train'\n",
    "test_dir = r'C:\\Users\\lol51\\Downloads\\OCT_data\\test'\n",
    "val_dir = r'C:\\Users\\lol51\\Downloads\\OCT_data\\val'"
   ]
  },
  {
   "cell_type": "code",
   "execution_count": 3,
   "id": "bc33b437",
   "metadata": {},
   "outputs": [
    {
     "name": "stdout",
     "output_type": "stream",
     "text": [
      "Found 10000 images belonging to 4 classes.\n",
      "Found 100 images belonging to 4 classes.\n"
     ]
    }
   ],
   "source": [
    "train_datagen = ImageDataGenerator(rescale=1./255)\n",
    "val_datagen = ImageDataGenerator(rescale=1./255)\n",
    "\n",
    "train_generator = train_datagen.flow_from_directory(train_dir, target_size=(150, 150), batch_size=32, class_mode='categorical')\n",
    "val_generator = val_datagen.flow_from_directory(val_dir, target_size=(150, 150), batch_size=32, class_mode='categorical')"
   ]
  },
  {
   "cell_type": "code",
   "execution_count": 4,
   "id": "8318a1fc",
   "metadata": {},
   "outputs": [
    {
     "name": "stdout",
     "output_type": "stream",
     "text": [
      "WARNING:tensorflow:From C:\\Users\\lol51\\anaconda3\\Lib\\site-packages\\keras\\src\\backend.py:1398: The name tf.executing_eagerly_outside_functions is deprecated. Please use tf.compat.v1.executing_eagerly_outside_functions instead.\n",
      "\n",
      "WARNING:tensorflow:From C:\\Users\\lol51\\anaconda3\\Lib\\site-packages\\keras\\src\\layers\\pooling\\max_pooling2d.py:161: The name tf.nn.max_pool is deprecated. Please use tf.nn.max_pool2d instead.\n",
      "\n"
     ]
    }
   ],
   "source": [
    "base_model = VGG16(weights='imagenet', include_top=False, input_shape=(150, 150, 3))"
   ]
  },
  {
   "cell_type": "code",
   "execution_count": 5,
   "id": "e46d7ab4",
   "metadata": {},
   "outputs": [],
   "source": [
    "model = Sequential([\n",
    "    base_model,\n",
    "    Flatten(),\n",
    "    Dense(256, activation='relu'),\n",
    "    Dense(4, activation='softmax')  # 4 classes: NORMAL, CNV, DME, DRUSEN\n",
    "])"
   ]
  },
  {
   "cell_type": "code",
   "execution_count": 9,
   "id": "a5a50e6c",
   "metadata": {},
   "outputs": [],
   "source": [
    "base_model.trainable = False\n",
    "model.compile(optimizer=Adam(), loss='categorical_crossentropy', metrics=['accuracy'])"
   ]
  },
  {
   "cell_type": "code",
   "execution_count": 10,
   "id": "ecbfeb78",
   "metadata": {},
   "outputs": [
    {
     "name": "stdout",
     "output_type": "stream",
     "text": [
      "Epoch 1/10\n",
      "313/313 [==============================] - 399s 1s/step - loss: 0.3076 - accuracy: 0.9507 - val_loss: 0.0803 - val_accuracy: 0.9800\n",
      "Epoch 2/10\n",
      "313/313 [==============================] - 395s 1s/step - loss: 0.0744 - accuracy: 0.9761 - val_loss: 0.2733 - val_accuracy: 0.9400\n",
      "Epoch 3/10\n",
      "313/313 [==============================] - 330s 1s/step - loss: 0.0506 - accuracy: 0.9828 - val_loss: 0.1755 - val_accuracy: 0.9700\n",
      "Epoch 4/10\n",
      "313/313 [==============================] - 319s 1s/step - loss: 0.0417 - accuracy: 0.9864 - val_loss: 0.0768 - val_accuracy: 0.9800\n",
      "Epoch 5/10\n",
      "313/313 [==============================] - 307s 980ms/step - loss: 0.0202 - accuracy: 0.9939 - val_loss: 0.1599 - val_accuracy: 0.9800\n",
      "Epoch 6/10\n",
      "313/313 [==============================] - 309s 988ms/step - loss: 0.0221 - accuracy: 0.9916 - val_loss: 0.1378 - val_accuracy: 0.9700\n",
      "Epoch 7/10\n",
      "313/313 [==============================] - 318s 1s/step - loss: 0.0199 - accuracy: 0.9946 - val_loss: 0.1856 - val_accuracy: 0.9800\n",
      "Epoch 8/10\n",
      "313/313 [==============================] - 316s 1s/step - loss: 0.0295 - accuracy: 0.9920 - val_loss: 0.4941 - val_accuracy: 0.9300\n",
      "Epoch 9/10\n",
      "313/313 [==============================] - 323s 1s/step - loss: 0.0139 - accuracy: 0.9956 - val_loss: 0.1225 - val_accuracy: 0.9700\n",
      "Epoch 10/10\n",
      "313/313 [==============================] - 323s 1s/step - loss: 0.0055 - accuracy: 0.9979 - val_loss: 0.3722 - val_accuracy: 0.9600\n"
     ]
    },
    {
     "data": {
      "text/plain": [
       "<keras.src.callbacks.History at 0x1d78b0d2ed0>"
      ]
     },
     "execution_count": 10,
     "metadata": {},
     "output_type": "execute_result"
    }
   ],
   "source": [
    "model.fit(train_generator, epochs=10, validation_data=val_generator)"
   ]
  },
  {
   "cell_type": "code",
   "execution_count": 7,
   "id": "afd23dbe",
   "metadata": {},
   "outputs": [],
   "source": [
    "base_model.trainable = True\n",
    "model.compile(optimizer=Adam(1e-5), loss='categorical_crossentropy', metrics=['accuracy']) "
   ]
  },
  {
   "cell_type": "code",
   "execution_count": 8,
   "id": "f07956aa",
   "metadata": {
    "scrolled": true
   },
   "outputs": [
    {
     "name": "stdout",
     "output_type": "stream",
     "text": [
      "Epoch 1/10\n",
      "WARNING:tensorflow:From C:\\Users\\lol51\\anaconda3\\Lib\\site-packages\\keras\\src\\utils\\tf_utils.py:492: The name tf.ragged.RaggedTensorValue is deprecated. Please use tf.compat.v1.ragged.RaggedTensorValue instead.\n",
      "\n",
      "WARNING:tensorflow:From C:\\Users\\lol51\\anaconda3\\Lib\\site-packages\\keras\\src\\engine\\base_layer_utils.py:384: The name tf.executing_eagerly_outside_functions is deprecated. Please use tf.compat.v1.executing_eagerly_outside_functions instead.\n",
      "\n",
      "313/313 [==============================] - 1392s 4s/step - loss: 0.4755 - accuracy: 0.8270 - val_loss: 0.1946 - val_accuracy: 0.9200\n",
      "Epoch 2/10\n",
      "313/313 [==============================] - 1373s 4s/step - loss: 0.2359 - accuracy: 0.9197 - val_loss: 0.0780 - val_accuracy: 0.9900\n",
      "Epoch 3/10\n",
      "313/313 [==============================] - 1357s 4s/step - loss: 0.1801 - accuracy: 0.9373 - val_loss: 0.1273 - val_accuracy: 0.9600\n",
      "Epoch 4/10\n",
      "313/313 [==============================] - 1528s 5s/step - loss: 0.1301 - accuracy: 0.9556 - val_loss: 0.1297 - val_accuracy: 0.9500\n",
      "Epoch 5/10\n",
      "313/313 [==============================] - 1428s 5s/step - loss: 0.1015 - accuracy: 0.9659 - val_loss: 0.1963 - val_accuracy: 0.9400\n",
      "Epoch 6/10\n",
      "313/313 [==============================] - 1532s 5s/step - loss: 0.0807 - accuracy: 0.9744 - val_loss: 0.1098 - val_accuracy: 0.9500\n",
      "Epoch 7/10\n",
      "313/313 [==============================] - 1543s 5s/step - loss: 0.0557 - accuracy: 0.9827 - val_loss: 0.0656 - val_accuracy: 0.9800\n",
      "Epoch 8/10\n",
      "313/313 [==============================] - 1599s 5s/step - loss: 0.0407 - accuracy: 0.9878 - val_loss: 0.1055 - val_accuracy: 0.9700\n",
      "Epoch 9/10\n",
      "313/313 [==============================] - 1474s 5s/step - loss: 0.0302 - accuracy: 0.9910 - val_loss: 0.1383 - val_accuracy: 0.9600\n",
      "Epoch 10/10\n",
      "313/313 [==============================] - 1509s 5s/step - loss: 0.0237 - accuracy: 0.9925 - val_loss: 0.5082 - val_accuracy: 0.9300\n"
     ]
    },
    {
     "data": {
      "text/plain": [
       "<keras.src.callbacks.History at 0x1d781d9d350>"
      ]
     },
     "execution_count": 8,
     "metadata": {},
     "output_type": "execute_result"
    }
   ],
   "source": [
    "model.fit(train_generator, epochs=10, validation_data=val_generator)"
   ]
  },
  {
   "cell_type": "code",
   "execution_count": 11,
   "id": "faa400c3",
   "metadata": {},
   "outputs": [
    {
     "name": "stdout",
     "output_type": "stream",
     "text": [
      "Found 200 images belonging to 1 classes.\n",
      "7/7 [==============================] - 7s 893ms/step\n"
     ]
    }
   ],
   "source": [
    "test_datagen = ImageDataGenerator(rescale=1./255)\n",
    "test_generator = test_datagen.flow_from_directory(test_dir, target_size=(150, 150), batch_size=32, class_mode=None, shuffle=False)\n",
    "predictions = model.predict(test_generator)"
   ]
  },
  {
   "cell_type": "code",
   "execution_count": 12,
   "id": "8df045a6",
   "metadata": {},
   "outputs": [],
   "source": [
    "predicted_labels = tf.argmax(predictions, axis=-1).numpy()"
   ]
  },
  {
   "cell_type": "code",
   "execution_count": 14,
   "id": "ade3297b",
   "metadata": {},
   "outputs": [],
   "source": [
    "df = pd.DataFrame({'filename': test_generator.filenames, 'label': predicted_labels})\n",
    "df.to_csv('predictions1.csv', index=False)"
   ]
  },
  {
   "cell_type": "code",
   "execution_count": 15,
   "id": "8b7d4f35",
   "metadata": {},
   "outputs": [],
   "source": [
    "from sklearn.metrics import accuracy_score, precision_score, recall_score, f1_score"
   ]
  },
  {
   "cell_type": "code",
   "execution_count": 16,
   "id": "da7ef325",
   "metadata": {},
   "outputs": [],
   "source": [
    "true_labels = test_generator.classes"
   ]
  },
  {
   "cell_type": "code",
   "execution_count": 18,
   "id": "457d7788",
   "metadata": {},
   "outputs": [
    {
     "name": "stderr",
     "output_type": "stream",
     "text": [
      "C:\\Users\\lol51\\anaconda3\\Lib\\site-packages\\sklearn\\metrics\\_classification.py:1469: UndefinedMetricWarning: Recall is ill-defined and being set to 0.0 in labels with no true samples. Use `zero_division` parameter to control this behavior.\n",
      "  _warn_prf(average, modifier, msg_start, len(result))\n"
     ]
    }
   ],
   "source": [
    "accuracy = accuracy_score(true_labels, predicted_labels)\n",
    "precision = precision_score(true_labels, predicted_labels, average='macro')\n",
    "recall = recall_score(true_labels, predicted_labels, average='macro')\n",
    "f1 = f1_score(true_labels, predicted_labels, average='macro')"
   ]
  },
  {
   "cell_type": "code",
   "execution_count": 19,
   "id": "917218ed",
   "metadata": {},
   "outputs": [
    {
     "name": "stdout",
     "output_type": "stream",
     "text": [
      "Accuracy: 0.28\n",
      "Precision: 0.25\n",
      "Recall: 0.07\n",
      "F1 Score: 0.10937500000000001\n"
     ]
    }
   ],
   "source": [
    "print(f'Accuracy: {accuracy}')\n",
    "print(f'Precision: {precision}')\n",
    "print(f'Recall: {recall}')\n",
    "print(f'F1 Score: {f1}')"
   ]
  },
  {
   "cell_type": "code",
   "execution_count": null,
   "id": "6b437f39",
   "metadata": {},
   "outputs": [],
   "source": []
  }
 ],
 "metadata": {
  "kernelspec": {
   "display_name": "Python 3 (ipykernel)",
   "language": "python",
   "name": "python3"
  },
  "language_info": {
   "codemirror_mode": {
    "name": "ipython",
    "version": 3
   },
   "file_extension": ".py",
   "mimetype": "text/x-python",
   "name": "python",
   "nbconvert_exporter": "python",
   "pygments_lexer": "ipython3",
   "version": "3.11.5"
  }
 },
 "nbformat": 4,
 "nbformat_minor": 5
}
