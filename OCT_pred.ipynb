{
 "cells": [
  {
   "cell_type": "code",
   "execution_count": 2,
   "id": "b315384a",
   "metadata": {},
   "outputs": [],
   "source": [
    "import tensorflow as tf\n",
    "from tensorflow.keras.preprocessing.image import ImageDataGenerator\n",
    "from tensorflow.keras.models import Sequential\n",
    "from tensorflow.keras.layers import Dense, Conv2D, Flatten, Dropout, MaxPooling2D\n",
    "from tensorflow.keras.optimizers import Adam\n",
    "import pandas as pd"
   ]
  },
  {
   "cell_type": "code",
   "execution_count": 27,
   "id": "450a45cb",
   "metadata": {},
   "outputs": [],
   "source": [
    "train_dir = r'C:\\Users\\lol51\\Downloads\\OCT_data\\train'\n",
    "test_dir = r'C:\\Users\\lol51\\Downloads\\OCT_data\\test'\n",
    "val_dir = r'C:\\Users\\lol51\\Downloads\\OCT_data\\val'"
   ]
  },
  {
   "cell_type": "code",
   "execution_count": 28,
   "id": "aacf8c47",
   "metadata": {},
   "outputs": [
    {
     "name": "stdout",
     "output_type": "stream",
     "text": [
      "Found 10000 images belonging to 4 classes.\n",
      "Found 100 images belonging to 4 classes.\n"
     ]
    }
   ],
   "source": [
    "train_datagen = ImageDataGenerator(rescale=1./255)\n",
    "val_datagen = ImageDataGenerator(rescale=1./255)\n",
    "\n",
    "train_generator = train_datagen.flow_from_directory(train_dir, target_size=(150, 150), batch_size=32, class_mode='categorical')\n",
    "val_generator = val_datagen.flow_from_directory(val_dir, target_size=(150, 150), batch_size=32, class_mode='categorical')"
   ]
  },
  {
   "cell_type": "code",
   "execution_count": 29,
   "id": "df2e2441",
   "metadata": {},
   "outputs": [],
   "source": [
    "model = Sequential([\n",
    "    Conv2D(32, (3, 3), activation='relu', input_shape=(150, 150, 3)),\n",
    "    MaxPooling2D((2, 2)),\n",
    "    Conv2D(64, (3, 3), activation='relu'),\n",
    "    MaxPooling2D((2, 2)),\n",
    "    Flatten(),\n",
    "    Dense(128, activation='relu'),\n",
    "    Dense(4, activation='softmax')  # 4 classes: NORMAL, CNV, DME, DRUSEN\n",
    "])"
   ]
  },
  {
   "cell_type": "code",
   "execution_count": 30,
   "id": "51ecab54",
   "metadata": {},
   "outputs": [],
   "source": [
    "model.compile(optimizer=Adam(), loss='categorical_crossentropy', metrics=['accuracy'])"
   ]
  },
  {
   "cell_type": "code",
   "execution_count": 31,
   "id": "606f1080",
   "metadata": {},
   "outputs": [
    {
     "name": "stdout",
     "output_type": "stream",
     "text": [
      "Epoch 1/10\n",
      "313/313 [==============================] - 198s 629ms/step - loss: 1.0409 - accuracy: 0.5962 - val_loss: 1.1365 - val_accuracy: 0.5200\n",
      "Epoch 2/10\n",
      "313/313 [==============================] - 111s 354ms/step - loss: 0.7018 - accuracy: 0.7397 - val_loss: 1.0922 - val_accuracy: 0.5600\n",
      "Epoch 3/10\n",
      "313/313 [==============================] - 105s 336ms/step - loss: 0.5258 - accuracy: 0.8088 - val_loss: 0.9878 - val_accuracy: 0.6500\n",
      "Epoch 4/10\n",
      "313/313 [==============================] - 106s 339ms/step - loss: 0.3559 - accuracy: 0.8741 - val_loss: 0.9890 - val_accuracy: 0.6700\n",
      "Epoch 5/10\n",
      "313/313 [==============================] - 105s 335ms/step - loss: 0.1859 - accuracy: 0.9358 - val_loss: 0.9986 - val_accuracy: 0.6900\n",
      "Epoch 6/10\n",
      "313/313 [==============================] - 106s 337ms/step - loss: 0.0678 - accuracy: 0.9809 - val_loss: 1.1012 - val_accuracy: 0.6600\n",
      "Epoch 7/10\n",
      "313/313 [==============================] - 109s 348ms/step - loss: 0.0298 - accuracy: 0.9938 - val_loss: 1.2202 - val_accuracy: 0.7100\n",
      "Epoch 8/10\n",
      "313/313 [==============================] - 106s 339ms/step - loss: 0.0135 - accuracy: 0.9983 - val_loss: 1.4853 - val_accuracy: 0.6600\n",
      "Epoch 9/10\n",
      "313/313 [==============================] - 106s 337ms/step - loss: 0.0059 - accuracy: 0.9996 - val_loss: 1.8289 - val_accuracy: 0.6800\n",
      "Epoch 10/10\n",
      "313/313 [==============================] - 105s 335ms/step - loss: 0.0132 - accuracy: 0.9980 - val_loss: 1.4447 - val_accuracy: 0.7000\n"
     ]
    },
    {
     "data": {
      "text/plain": [
       "<keras.src.callbacks.History at 0x242d8700690>"
      ]
     },
     "execution_count": 31,
     "metadata": {},
     "output_type": "execute_result"
    }
   ],
   "source": [
    "model.fit(train_generator, epochs=10, validation_data=val_generator)"
   ]
  },
  {
   "cell_type": "code",
   "execution_count": 32,
   "id": "ab864dfe",
   "metadata": {},
   "outputs": [
    {
     "name": "stdout",
     "output_type": "stream",
     "text": [
      "Found 200 images belonging to 1 classes.\n",
      "7/7 [==============================] - 2s 343ms/step\n"
     ]
    }
   ],
   "source": [
    "test_datagen = ImageDataGenerator(rescale=1./255)\n",
    "test_generator = test_datagen.flow_from_directory(test_dir, target_size=(150, 150), batch_size=32, class_mode=None, shuffle=False)\n",
    "predictions = model.predict(test_generator)"
   ]
  },
  {
   "cell_type": "code",
   "execution_count": 33,
   "id": "e30135fb",
   "metadata": {},
   "outputs": [],
   "source": [
    "predicted_labels = tf.argmax(predictions, axis=-1).numpy()"
   ]
  },
  {
   "cell_type": "code",
   "execution_count": 35,
   "id": "407423ea",
   "metadata": {},
   "outputs": [],
   "source": [
    "df = pd.DataFrame({'filename': test_generator.filenames, 'label': predicted_labels})\n",
    "df.to_csv('predictions.csv', index=False)"
   ]
  },
  {
   "cell_type": "code",
   "execution_count": 37,
   "id": "2c159837",
   "metadata": {},
   "outputs": [],
   "source": [
    "from sklearn.metrics import accuracy_score, precision_score, recall_score, f1_score"
   ]
  },
  {
   "cell_type": "code",
   "execution_count": 38,
   "id": "402bb7be",
   "metadata": {},
   "outputs": [],
   "source": [
    "true_labels = test_generator.classes"
   ]
  },
  {
   "cell_type": "code",
   "execution_count": 39,
   "id": "087c723d",
   "metadata": {},
   "outputs": [
    {
     "name": "stderr",
     "output_type": "stream",
     "text": [
      "C:\\Users\\lol51\\anaconda3\\Lib\\site-packages\\sklearn\\metrics\\_classification.py:1469: UndefinedMetricWarning: Recall is ill-defined and being set to 0.0 in labels with no true samples. Use `zero_division` parameter to control this behavior.\n",
      "  _warn_prf(average, modifier, msg_start, len(result))\n"
     ]
    }
   ],
   "source": [
    "accuracy = accuracy_score(true_labels, predicted_labels)\n",
    "precision = precision_score(true_labels, predicted_labels, average='macro')\n",
    "recall = recall_score(true_labels, predicted_labels, average='macro')\n",
    "f1 = f1_score(true_labels, predicted_labels, average='macro')"
   ]
  },
  {
   "cell_type": "code",
   "execution_count": 40,
   "id": "55910d42",
   "metadata": {},
   "outputs": [
    {
     "name": "stdout",
     "output_type": "stream",
     "text": [
      "Accuracy: 0.385\n",
      "Precision: 0.25\n",
      "Recall: 0.09625\n",
      "F1 Score: 0.13898916967509026\n"
     ]
    }
   ],
   "source": [
    "print(f'Accuracy: {accuracy}')\n",
    "print(f'Precision: {precision}')\n",
    "print(f'Recall: {recall}')\n",
    "print(f'F1 Score: {f1}')"
   ]
  },
  {
   "cell_type": "code",
   "execution_count": null,
   "id": "a1846c0b",
   "metadata": {},
   "outputs": [],
   "source": []
  }
 ],
 "metadata": {
  "kernelspec": {
   "display_name": "Python 3 (ipykernel)",
   "language": "python",
   "name": "python3"
  },
  "language_info": {
   "codemirror_mode": {
    "name": "ipython",
    "version": 3
   },
   "file_extension": ".py",
   "mimetype": "text/x-python",
   "name": "python",
   "nbconvert_exporter": "python",
   "pygments_lexer": "ipython3",
   "version": "3.11.5"
  }
 },
 "nbformat": 4,
 "nbformat_minor": 5
}
